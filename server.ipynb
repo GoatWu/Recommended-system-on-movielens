{
 "cells": [
  {
   "cell_type": "code",
   "execution_count": 1,
   "metadata": {},
   "outputs": [],
   "source": [
    "import pandas as pd\n",
    "import numpy as np"
   ]
  },
  {
   "cell_type": "code",
   "execution_count": 4,
   "metadata": {},
   "outputs": [
    {
     "data": {
      "text/plain": [
       "array([[ 3.91995238, -0.01722733, -0.11582151, ...,  0.25986942,\n",
       "        -0.1304566 , -0.06802193],\n",
       "       [ 3.43716086, -0.09722311,  0.10187429, ..., -0.08923179,\n",
       "        -0.08980877, -0.01956064],\n",
       "       [ 3.25301542,  0.03021403, -0.39298681, ...,  0.12517258,\n",
       "        -0.18987302,  0.34591743],\n",
       "       ...,\n",
       "       [ 3.50568258,  2.07465744,  2.58316082, ...,  2.1185503 ,\n",
       "         2.59294713,  1.7061975 ],\n",
       "       [ 3.50176762,  1.97527635,  2.62143975, ...,  2.28221989,\n",
       "         2.48156714,  1.70621991],\n",
       "       [ 3.99610314,  0.88124347,  1.03100443, ...,  1.31038141,\n",
       "         1.32486749,  0.72440171]])"
      ]
     },
     "execution_count": 4,
     "metadata": {},
     "output_type": "execute_result"
    }
   ],
   "source": [
    "epoch, learning_rate = 1000, 0.001\n",
    "pd_predicts = pd.read_csv('./model/{}epoch-{}rate.csv'.format(epoch, learning_rate))\n",
    "movies_df = pd.read_csv('ml-latest-small/moviesProcessed.csv')\n",
    "predicts = np.array(pd_predicts)\n",
    "predicts"
   ]
  },
  {
   "cell_type": "code",
   "execution_count": 5,
   "metadata": {},
   "outputs": [
    {
     "name": "stdout",
     "output_type": "stream",
     "text": [
      "请输入您的用户编号：67\n",
      "===================================为您推荐20部电影：===================================\n",
      " 1. 评分：3.50，电影名：My Left Eye Sees Ghosts (Ngo joh aan gin diy gwai) (2002)\n",
      " 2. 评分：3.43，电影名：Tickling Giants (2017)\n",
      " 3. 评分：3.42，电影名：Bone Man, The (Der Knochenmann) (2009)\n",
      " 4. 评分：3.40，电影名：Too Funny to Fail: The Life and Death of The Dana Carvey Show (2017)\n",
      " 5. 评分：3.39，电影名：Goodbye Charlie (1964)\n",
      " 6. 评分：3.36，电影名：Ghost Graduation (2012)\n",
      " 7. 评分：3.34，电影名：Saving Santa (2013)\n",
      " 8. 评分：3.33，电影名：Miss Nobody (2010)\n",
      " 9. 评分：3.29，电影名：Happy Feet Two (2011)\n",
      "10. 评分：3.28，电影名：The Night Is Short, Walk on Girl (2017)\n",
      "11. 评分：3.28，电影名：L.A. Slasher (2015)\n",
      "12. 评分：3.28，电影名：Ice Age: The Great Egg-Scapade (2016)\n",
      "13. 评分：3.27，电影名：Tom and Jerry: A Nutcracker Tale (2007)\n",
      "14. 评分：3.27，电影名：Tales of Manhattan (1942)\n",
      "15. 评分：3.26，电影名：Bloodsucking Bastards (2015)\n",
      "16. 评分：3.26，电影名：What Happened Was... (1994)\n",
      "17. 评分：3.24，电影名：Boy Eats Girl (2005)\n",
      "18. 评分：3.24，电影名：Sun Alley (Sonnenallee) (1999)\n",
      "19. 评分：3.23，电影名：Girls About Town (1931)\n",
      "20. 评分：3.21，电影名：My Life as McDull (Mak dau goo si) (2001)\n"
     ]
    }
   ],
   "source": [
    "user_id = input('请输入您的用户编号：')\n",
    "\n",
    "sortedResult = predicts[:, int(user_id)].argsort()[::-1] # 从大到小排序\n",
    "\n",
    "idx = 0\n",
    "print('为您推荐20部电影：'.center(80, '='))\n",
    "for i in sortedResult:\n",
    "    print('%2d. 评分：%.2f，电影名：%s' % (idx + 1, predicts[i, int(user_id)], movies_df.iloc[i]['title']))\n",
    "    idx += 1\n",
    "    if idx == 20:\n",
    "        break"
   ]
  },
  {
   "cell_type": "code",
   "execution_count": null,
   "metadata": {},
   "outputs": [],
   "source": []
  }
 ],
 "metadata": {
  "kernelspec": {
   "display_name": "tf",
   "language": "python",
   "name": "tf"
  },
  "language_info": {
   "codemirror_mode": {
    "name": "ipython",
    "version": 3
   },
   "file_extension": ".py",
   "mimetype": "text/x-python",
   "name": "python",
   "nbconvert_exporter": "python",
   "pygments_lexer": "ipython3",
   "version": "3.6.10"
  }
 },
 "nbformat": 4,
 "nbformat_minor": 4
}
